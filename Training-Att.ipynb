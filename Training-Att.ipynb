{
 "cells": [
  {
   "cell_type": "markdown",
   "metadata": {},
   "source": [
    "# Import Libraries"
   ]
  },
  {
   "cell_type": "code",
   "execution_count": 1,
   "metadata": {
    "id": "sGt_fqSmOHgV"
   },
   "outputs": [],
   "source": [
    "import numpy as np\n",
    "import pandas as pd\n",
    "from sklearn.model_selection import KFold, StratifiedKFold\n",
    "from sklearn.model_selection import train_test_split\n",
    "import torch\n",
    "import torch.nn as nn\n",
    "import torch.nn.functional as F\n",
    "from torch.utils.data import Dataset, DataLoader, Subset, ConcatDataset\n",
    "from data_loader import LungSoundDS\n",
    "import torch.optim as optim\n",
    "from Net import Cnn_Att, ConvNet\n",
    "from torch.optim.lr_scheduler import StepLR\n",
    "from torchaudio import transforms\n",
    "from utils import Compose, DataFromSubset, SpecPermute\n",
    "from sklearn.metrics import classification_report\n",
    "from sklearn.metrics import f1_score, accuracy_score, precision_score, recall_score, roc_auc_score, confusion_matrix\n",
    "from torchsummary import summary"
   ]
  },
  {
   "cell_type": "code",
   "execution_count": 2,
   "metadata": {},
   "outputs": [],
   "source": [
    "rng = np.random.RandomState(0)\n",
    "torch.manual_seed(0);"
   ]
  },
  {
   "cell_type": "markdown",
   "metadata": {},
   "source": [
    "# Defining Functions for Train and Test"
   ]
  },
  {
   "cell_type": "code",
   "execution_count": 3,
   "metadata": {},
   "outputs": [],
   "source": [
    "# Reset Weights between folds\n",
    "def reset_weights(m):\n",
    "    if isinstance(m, nn.Linear):\n",
    "        m.reset_parameters()"
   ]
  },
  {
   "cell_type": "code",
   "execution_count": 4,
   "metadata": {},
   "outputs": [],
   "source": [
    "# Calculate accuracy for each batch\n",
    "def model_acc(output, target):\n",
    "    output_ls = torch.log_softmax(output, dim = 1)\n",
    "    _, y_pred = torch.max(output_ls, dim = 1)  \n",
    "    correct = torch.eq(y_pred, target).float()\n",
    "    \n",
    "    acc = correct.sum().item()/len(correct)\n",
    "    return acc"
   ]
  },
  {
   "cell_type": "code",
   "execution_count": 5,
   "metadata": {
    "id": "MoEEw_VpUY_R"
   },
   "outputs": [],
   "source": [
    "# Train the Model\n",
    "def train(model, device, train_loader, optimizer, criterion):\n",
    "    model.train()\n",
    "    batch_loss=0\n",
    "    batch_acc=0\n",
    "    \n",
    "    for batch_idx, (data, target) in enumerate(train_loader):\n",
    "        data, target = data.to(device), target.to(device)\n",
    "        \n",
    "        optimizer.zero_grad()\n",
    "        output = model(data)\n",
    "        loss = criterion(output, target)\n",
    "        loss.backward()\n",
    "        optimizer.step()\n",
    "        \n",
    "        # Add all batch loss\n",
    "        batch_loss += loss.item()*data.size(0)\n",
    "        \n",
    "        acc = model_acc(output, target)\n",
    "    \n",
    "        # Add all batch accuracy\n",
    "        batch_acc += acc*target.size(0)\n",
    "\n",
    "    # Epoch Loss and Accuracy \n",
    "    train_loss = batch_loss/len(train_loader.dataset)\n",
    "    train_acc  = batch_acc/len(train_loader.dataset)\n",
    "    \n",
    "    return train_loss, train_acc"
   ]
  },
  {
   "cell_type": "code",
   "execution_count": 6,
   "metadata": {},
   "outputs": [],
   "source": [
    "def compute_metrics(model, device, testloader, criterion, classes_names):\n",
    "    with torch.no_grad():\n",
    "        model.eval()\n",
    "\n",
    "        val_loss = 0\n",
    "        val_correct = 0\n",
    "\n",
    "        score_list   = []\n",
    "        pred_list    = []\n",
    "        target_list  = []\n",
    "\n",
    "        # Convert image data into single channel data\n",
    "        for iter_num, (data, target) in enumerate(testloader):   \n",
    "            image, target = data.to(device), target.to(device)\n",
    "\n",
    "            output = model(image)\n",
    "\n",
    "            # Log loss\n",
    "            output = torch.log_softmax(output, dim = 1)\n",
    "            loss = criterion(output, target)\n",
    "            val_loss += loss.item()*data.size(0)\n",
    "\n",
    "            # Calculate the number of correctly classified examples\n",
    "            pred = output.argmax(dim=1)\n",
    "            val_correct += pred.eq(target).sum().item()\n",
    "            \n",
    "            # Appending \n",
    "            pred_list.extend(pred.squeeze().tolist())\n",
    "            target_list.extend(target.squeeze().tolist()) \n",
    "            score_list.extend(nn.Softmax(dim = 1)(output).tolist())\n",
    "\n",
    "    # metrics\n",
    "    F1_score = f1_score(target_list, pred_list, average=\"macro\") \n",
    "    Accuracy = accuracy_score(target_list, pred_list)\n",
    "    Precision= precision_score(target_list, pred_list, average=\"macro\") \n",
    "    Recall   = recall_score(target_list, pred_list, average=\"macro\")  \n",
    "    Roc_AUC  = roc_auc_score(target_list, score_list, average=\"macro\",multi_class='ovo')\n",
    "    conf_matrix= confusion_matrix(target_list, pred_list)\n",
    "    \n",
    "    # put together values\n",
    "    metrics_dict = {\"Accuracy\": Accuracy,\n",
    "                    \"F1-score\": F1_score,\n",
    "                    \"Precision\":Precision,\n",
    "                    \"Recall\": Recall,\n",
    "                    \"Loss\": val_loss/len(testloader.dataset),\n",
    "                    \"Roc_AUC\":Roc_AUC,\n",
    "                    \"CM\":conf_matrix}\n",
    "    \n",
    "    return metrics_dict"
   ]
  },
  {
   "cell_type": "code",
   "execution_count": 7,
   "metadata": {},
   "outputs": [],
   "source": [
    "sample_rate = 22050 \n",
    "n_fft = 512\n",
    "win_length = 512\n",
    "hop_length = 512\n",
    "n_mels = 64\n",
    "n_stft=257\n",
    "\n",
    "transfAug = Compose([transforms.Spectrogram(n_fft=n_fft,win_length=win_length,hop_length=hop_length), \n",
    "                     transforms.FrequencyMasking(freq_mask_param=10),\n",
    "                     transforms.TimeMasking(time_mask_param=10),\n",
    "                     transforms.MelScale(n_mels=n_mels,sample_rate=sample_rate,n_stft=257),\n",
    "                     transforms.AmplitudeToDB(), \n",
    "                     SpecPermute()])\n",
    "\n",
    "transfNoAug= Compose([transforms.Spectrogram(n_fft=n_fft,win_length=win_length,hop_length=hop_length), \n",
    "                      transforms.MelScale(n_mels=n_mels,sample_rate=sample_rate,n_stft=n_stft),\n",
    "                      transforms.AmplitudeToDB(), \n",
    "                      SpecPermute()])"
   ]
  },
  {
   "cell_type": "code",
   "execution_count": 8,
   "metadata": {
    "colab": {
     "base_uri": "https://localhost:8080/"
    },
    "id": "2UKHJeT0Ei1U",
    "outputId": "bd84d3ad-cc89-414e-8680-db963a244f1a"
   },
   "outputs": [
    {
     "name": "stdout",
     "output_type": "stream",
     "text": [
      "Using device: cuda\n"
     ]
    }
   ],
   "source": [
    "# Put on GPU\n",
    "device = torch.device('cuda' if torch.cuda.is_available() else 'cpu')\n",
    "print('Using device:', device)"
   ]
  },
  {
   "cell_type": "markdown",
   "metadata": {},
   "source": [
    "# Loading Dataset"
   ]
  },
  {
   "cell_type": "code",
   "execution_count": 9,
   "metadata": {
    "colab": {
     "base_uri": "https://localhost:8080/"
    },
    "id": "Fr418n01EjAG",
    "outputId": "778da71f-4f15-440f-99f9-8839df8f721f"
   },
   "outputs": [
    {
     "name": "stdout",
     "output_type": "stream",
     "text": [
      "Number of samples: 19370\n"
     ]
    }
   ],
   "source": [
    "path = r'sound_dataset/'\n",
    "df = pd.read_csv('data.csv')\n",
    "                 \n",
    "dataset = LungSoundDS(df, path)\n",
    "print('Number of samples:',len(dataset))"
   ]
  },
  {
   "cell_type": "markdown",
   "metadata": {},
   "source": [
    "# Defining Model and Params"
   ]
  },
  {
   "cell_type": "code",
   "execution_count": 10,
   "metadata": {
    "colab": {
     "base_uri": "https://localhost:8080/"
    },
    "id": "1ElLBng8Ei9f",
    "outputId": "e850d824-d678-4687-8286-f0ddbf1dfa4c"
   },
   "outputs": [],
   "source": [
    "classes_num = 4\n",
    "# 0: Normal Samples | 1: Crackles | 2: Wheezes | 3: Wheezes and Crackles\n",
    "classes_names = ['Normal','Crackles','Wheezes','W_C']\n",
    "\n",
    "#model = ConvNet(classes_num)\n",
    "model = Cnn_Att(classes_num)\n",
    "model = model.to(device)"
   ]
  },
  {
   "cell_type": "code",
   "execution_count": 11,
   "metadata": {},
   "outputs": [
    {
     "name": "stdout",
     "output_type": "stream",
     "text": [
      "----------------------------------------------------------------\n",
      "        Layer (type)               Output Shape         Param #\n",
      "================================================================\n",
      "            Conv2d-1           [-1, 64, 64, 64]             576\n",
      "       BatchNorm2d-2           [-1, 64, 64, 64]             128\n",
      "            Conv2d-3           [-1, 64, 64, 64]          36,864\n",
      "       BatchNorm2d-4           [-1, 64, 64, 64]             128\n",
      "         ConvBlock-5           [-1, 64, 32, 32]               0\n",
      "            Conv2d-6          [-1, 128, 32, 32]          73,728\n",
      "       BatchNorm2d-7          [-1, 128, 32, 32]             256\n",
      "            Conv2d-8          [-1, 128, 32, 32]         147,456\n",
      "       BatchNorm2d-9          [-1, 128, 32, 32]             256\n",
      "        ConvBlock-10          [-1, 128, 16, 16]               0\n",
      "           Conv2d-11          [-1, 256, 16, 16]         294,912\n",
      "      BatchNorm2d-12          [-1, 256, 16, 16]             512\n",
      "           Conv2d-13          [-1, 256, 16, 16]         589,824\n",
      "      BatchNorm2d-14          [-1, 256, 16, 16]             512\n",
      "        ConvBlock-15            [-1, 256, 8, 8]               0\n",
      "           Conv2d-16            [-1, 512, 8, 8]       1,179,648\n",
      "      BatchNorm2d-17            [-1, 512, 8, 8]           1,024\n",
      "           Conv2d-18            [-1, 512, 8, 8]       2,359,296\n",
      "      BatchNorm2d-19            [-1, 512, 8, 8]           1,024\n",
      "        ConvBlock-20            [-1, 512, 4, 4]               0\n",
      "           Conv2d-21           [-1, 1024, 4, 4]       4,718,592\n",
      "      BatchNorm2d-22           [-1, 1024, 4, 4]           2,048\n",
      "           Conv2d-23           [-1, 1024, 4, 4]       9,437,184\n",
      "      BatchNorm2d-24           [-1, 1024, 4, 4]           2,048\n",
      "        ConvBlock-25           [-1, 1024, 2, 2]               0\n",
      "           Conv2d-26           [-1, 2048, 2, 2]      18,874,368\n",
      "      BatchNorm2d-27           [-1, 2048, 2, 2]           4,096\n",
      "           Conv2d-28           [-1, 2048, 2, 2]      37,748,736\n",
      "      BatchNorm2d-29           [-1, 2048, 2, 2]           4,096\n",
      "        ConvBlock-30           [-1, 2048, 1, 1]               0\n",
      "           Conv2d-31            [-1, 512, 1, 1]       1,049,088\n",
      "           Conv2d-32          [-1, 512, 32, 32]          32,768\n",
      "   ProjectorBlock-33          [-1, 512, 32, 32]               0\n",
      "           Conv2d-34            [-1, 1, 32, 32]             512\n",
      "LinearAttentionBlock-35                  [-1, 512]               0\n",
      "           Conv2d-36            [-1, 512, 8, 8]         131,072\n",
      "   ProjectorBlock-37            [-1, 512, 8, 8]               0\n",
      "           Conv2d-38              [-1, 1, 8, 8]             512\n",
      "LinearAttentionBlock-39                  [-1, 512]               0\n",
      "           Conv2d-40            [-1, 512, 2, 2]         524,288\n",
      "   ProjectorBlock-41            [-1, 512, 2, 2]               0\n",
      "           Conv2d-42              [-1, 1, 2, 2]             512\n",
      "LinearAttentionBlock-43                  [-1, 512]               0\n",
      "           Linear-44                 [-1, 1024]       1,573,888\n",
      "           Linear-45                  [-1, 256]         262,400\n",
      "           Linear-46                  [-1, 128]          32,896\n",
      "           Linear-47                    [-1, 4]             516\n",
      "================================================================\n",
      "Total params: 79,085,764\n",
      "Trainable params: 74,399,620\n",
      "Non-trainable params: 4,686,144\n",
      "----------------------------------------------------------------\n",
      "Input size (MB): 0.02\n",
      "Forward/backward pass size (MB): 25.30\n",
      "Params size (MB): 301.69\n",
      "Estimated Total Size (MB): 327.00\n",
      "----------------------------------------------------------------\n"
     ]
    }
   ],
   "source": [
    "summary(model, (1,64,64))"
   ]
  },
  {
   "cell_type": "code",
   "execution_count": 12,
   "metadata": {},
   "outputs": [],
   "source": [
    "learning_rate = 1e-4\n",
    "\n",
    "# passing only those parameters that explicitly requires grad\n",
    "optimizer = optim.Adam(filter(lambda p: p.requires_grad, model.parameters()), lr=learning_rate, eps=1e-08, weight_decay=0, amsgrad=True)\n",
    "\n",
    "criterion = nn.CrossEntropyLoss()"
   ]
  },
  {
   "cell_type": "code",
   "execution_count": 13,
   "metadata": {
    "id": "A6Fkip8oEi4E"
   },
   "outputs": [],
   "source": [
    "batch_size=32\n",
    "epochs=200"
   ]
  },
  {
   "cell_type": "markdown",
   "metadata": {},
   "source": [
    "# Training"
   ]
  },
  {
   "cell_type": "markdown",
   "metadata": {},
   "source": [
    "## Using Hold out cross validation"
   ]
  },
  {
   "cell_type": "code",
   "execution_count": 14,
   "metadata": {},
   "outputs": [],
   "source": [
    "targets = dataset.df.id.values"
   ]
  },
  {
   "cell_type": "code",
   "execution_count": 15,
   "metadata": {},
   "outputs": [],
   "source": [
    "train_idx, valid_idx = train_test_split(np.arange(len(targets)),test_size=0.4,\n",
    "                                       shuffle=True,stratify=targets, random_state=42)"
   ]
  },
  {
   "cell_type": "code",
   "execution_count": 16,
   "metadata": {},
   "outputs": [],
   "source": [
    "test_idx, val_idx = train_test_split(valid_idx,test_size=0.5,\n",
    "                                     shuffle=True,stratify=targets[valid_idx], random_state=42)"
   ]
  },
  {
   "cell_type": "code",
   "execution_count": 17,
   "metadata": {},
   "outputs": [],
   "source": [
    "train_subset = Subset(dataset, train_idx)\n",
    "val_subset   = Subset(dataset, val_idx)\n",
    "test_subset  = Subset(dataset, test_idx)"
   ]
  },
  {
   "cell_type": "code",
   "execution_count": 18,
   "metadata": {},
   "outputs": [],
   "source": [
    "# Applying Transformations (spectrogram, melspectrogram and data augmentation)\n",
    "train_dataset = DataFromSubset(train_subset, transform=transfNoAug)\n",
    "val_dataset   = DataFromSubset(val_subset, transform=transfNoAug)\n",
    "test_dataset  = DataFromSubset(test_subset, transform=transfNoAug)\n",
    "\n",
    "\n",
    "# Generate Dataloader to Feed the Model\n",
    "trainLoader = DataLoader(train_dataset, batch_size=batch_size, shuffle=False)\n",
    "valLoader   = DataLoader(val_dataset, batch_size=batch_size, shuffle=False)\n",
    "testLoader  = DataLoader(test_dataset, batch_size=batch_size, shuffle=False)"
   ]
  },
  {
   "cell_type": "markdown",
   "metadata": {},
   "source": [
    "## Train"
   ]
  },
  {
   "cell_type": "code",
   "execution_count": 19,
   "metadata": {},
   "outputs": [],
   "source": [
    "# creating dictionary for statistics\n",
    "\n",
    "## Train Set Dictionary \n",
    "train_stats = {\"acc\": [], \"loss\": []}\n",
    "val_stats = {\"acc\": [], \"loss\": []}"
   ]
  },
  {
   "cell_type": "code",
   "execution_count": 20,
   "metadata": {},
   "outputs": [
    {
     "name": "stdout",
     "output_type": "stream",
     "text": [
      "Epoch 1 --> Train Metrics: Accuracy: 0.42 -- Loss: 1.29 | Validation Metrics: Accuracy: 0.42 ---- Loss: 1.27\n",
      "Epoch 2 --> Train Metrics: Accuracy: 0.45 -- Loss: 1.22 | Validation Metrics: Accuracy: 0.46 ---- Loss: 1.20\n",
      "Epoch 3 --> Train Metrics: Accuracy: 0.48 -- Loss: 1.18 | Validation Metrics: Accuracy: 0.48 ---- Loss: 1.17\n",
      "Epoch 4 --> Train Metrics: Accuracy: 0.49 -- Loss: 1.15 | Validation Metrics: Accuracy: 0.49 ---- Loss: 1.15\n",
      "Epoch 5 --> Train Metrics: Accuracy: 0.51 -- Loss: 1.12 | Validation Metrics: Accuracy: 0.51 ---- Loss: 1.12\n",
      "Epoch 6 --> Train Metrics: Accuracy: 0.52 -- Loss: 1.10 | Validation Metrics: Accuracy: 0.52 ---- Loss: 1.10\n",
      "Epoch 7 --> Train Metrics: Accuracy: 0.53 -- Loss: 1.09 | Validation Metrics: Accuracy: 0.51 ---- Loss: 1.11\n",
      "Epoch 8 --> Train Metrics: Accuracy: 0.54 -- Loss: 1.07 | Validation Metrics: Accuracy: 0.53 ---- Loss: 1.09\n",
      "Epoch 9 --> Train Metrics: Accuracy: 0.54 -- Loss: 1.06 | Validation Metrics: Accuracy: 0.53 ---- Loss: 1.07\n",
      "Epoch 10 --> Train Metrics: Accuracy: 0.55 -- Loss: 1.05 | Validation Metrics: Accuracy: 0.53 ---- Loss: 1.07\n",
      "Epoch 11 --> Train Metrics: Accuracy: 0.56 -- Loss: 1.04 | Validation Metrics: Accuracy: 0.54 ---- Loss: 1.06\n",
      "Epoch 12 --> Train Metrics: Accuracy: 0.56 -- Loss: 1.02 | Validation Metrics: Accuracy: 0.55 ---- Loss: 1.05\n",
      "Epoch 13 --> Train Metrics: Accuracy: 0.57 -- Loss: 1.01 | Validation Metrics: Accuracy: 0.55 ---- Loss: 1.03\n",
      "Epoch 14 --> Train Metrics: Accuracy: 0.57 -- Loss: 1.00 | Validation Metrics: Accuracy: 0.54 ---- Loss: 1.04\n",
      "Epoch 15 --> Train Metrics: Accuracy: 0.58 -- Loss: 0.99 | Validation Metrics: Accuracy: 0.55 ---- Loss: 1.04\n",
      "Epoch 16 --> Train Metrics: Accuracy: 0.59 -- Loss: 0.98 | Validation Metrics: Accuracy: 0.54 ---- Loss: 1.04\n",
      "Epoch 17 --> Train Metrics: Accuracy: 0.59 -- Loss: 0.97 | Validation Metrics: Accuracy: 0.56 ---- Loss: 1.02\n",
      "Epoch 18 --> Train Metrics: Accuracy: 0.60 -- Loss: 0.96 | Validation Metrics: Accuracy: 0.56 ---- Loss: 1.01\n",
      "Epoch 19 --> Train Metrics: Accuracy: 0.60 -- Loss: 0.95 | Validation Metrics: Accuracy: 0.57 ---- Loss: 0.99\n",
      "Epoch 20 --> Train Metrics: Accuracy: 0.59 -- Loss: 0.95 | Validation Metrics: Accuracy: 0.57 ---- Loss: 1.00\n",
      "Epoch 21 --> Train Metrics: Accuracy: 0.60 -- Loss: 0.93 | Validation Metrics: Accuracy: 0.57 ---- Loss: 0.99\n",
      "Epoch 22 --> Train Metrics: Accuracy: 0.61 -- Loss: 0.93 | Validation Metrics: Accuracy: 0.56 ---- Loss: 1.00\n",
      "Epoch 23 --> Train Metrics: Accuracy: 0.61 -- Loss: 0.92 | Validation Metrics: Accuracy: 0.59 ---- Loss: 0.97\n",
      "Epoch 24 --> Train Metrics: Accuracy: 0.61 -- Loss: 0.92 | Validation Metrics: Accuracy: 0.57 ---- Loss: 1.00\n",
      "Epoch 25 --> Train Metrics: Accuracy: 0.62 -- Loss: 0.91 | Validation Metrics: Accuracy: 0.57 ---- Loss: 0.99\n",
      "Epoch 26 --> Train Metrics: Accuracy: 0.62 -- Loss: 0.90 | Validation Metrics: Accuracy: 0.57 ---- Loss: 0.99\n",
      "Epoch 27 --> Train Metrics: Accuracy: 0.62 -- Loss: 0.90 | Validation Metrics: Accuracy: 0.58 ---- Loss: 0.99\n",
      "Epoch 28 --> Train Metrics: Accuracy: 0.63 -- Loss: 0.88 | Validation Metrics: Accuracy: 0.58 ---- Loss: 0.98\n",
      "Epoch 29 --> Train Metrics: Accuracy: 0.63 -- Loss: 0.88 | Validation Metrics: Accuracy: 0.58 ---- Loss: 0.98\n",
      "Epoch 30 --> Train Metrics: Accuracy: 0.63 -- Loss: 0.87 | Validation Metrics: Accuracy: 0.58 ---- Loss: 0.97\n",
      "Epoch 31 --> Train Metrics: Accuracy: 0.64 -- Loss: 0.87 | Validation Metrics: Accuracy: 0.59 ---- Loss: 0.97\n",
      "Epoch 32 --> Train Metrics: Accuracy: 0.64 -- Loss: 0.86 | Validation Metrics: Accuracy: 0.58 ---- Loss: 0.98\n",
      "Epoch 33 --> Train Metrics: Accuracy: 0.64 -- Loss: 0.85 | Validation Metrics: Accuracy: 0.57 ---- Loss: 0.99\n",
      "Epoch 34 --> Train Metrics: Accuracy: 0.65 -- Loss: 0.85 | Validation Metrics: Accuracy: 0.60 ---- Loss: 0.96\n",
      "Epoch 35 --> Train Metrics: Accuracy: 0.65 -- Loss: 0.84 | Validation Metrics: Accuracy: 0.59 ---- Loss: 0.96\n",
      "Epoch 36 --> Train Metrics: Accuracy: 0.65 -- Loss: 0.84 | Validation Metrics: Accuracy: 0.61 ---- Loss: 0.94\n",
      "Epoch 37 --> Train Metrics: Accuracy: 0.65 -- Loss: 0.84 | Validation Metrics: Accuracy: 0.59 ---- Loss: 0.97\n",
      "Epoch 38 --> Train Metrics: Accuracy: 0.66 -- Loss: 0.82 | Validation Metrics: Accuracy: 0.59 ---- Loss: 0.95\n",
      "Epoch 39 --> Train Metrics: Accuracy: 0.66 -- Loss: 0.82 | Validation Metrics: Accuracy: 0.60 ---- Loss: 0.96\n",
      "Epoch 40 --> Train Metrics: Accuracy: 0.66 -- Loss: 0.82 | Validation Metrics: Accuracy: 0.60 ---- Loss: 0.98\n",
      "Epoch 41 --> Train Metrics: Accuracy: 0.66 -- Loss: 0.81 | Validation Metrics: Accuracy: 0.59 ---- Loss: 0.96\n",
      "Epoch 42 --> Train Metrics: Accuracy: 0.67 -- Loss: 0.80 | Validation Metrics: Accuracy: 0.61 ---- Loss: 0.94\n",
      "Epoch 43 --> Train Metrics: Accuracy: 0.66 -- Loss: 0.80 | Validation Metrics: Accuracy: 0.60 ---- Loss: 0.96\n",
      "Epoch 44 --> Train Metrics: Accuracy: 0.67 -- Loss: 0.79 | Validation Metrics: Accuracy: 0.62 ---- Loss: 0.92\n",
      "Epoch 45 --> Train Metrics: Accuracy: 0.67 -- Loss: 0.80 | Validation Metrics: Accuracy: 0.61 ---- Loss: 0.94\n",
      "Epoch 46 --> Train Metrics: Accuracy: 0.68 -- Loss: 0.78 | Validation Metrics: Accuracy: 0.61 ---- Loss: 0.96\n",
      "Epoch 47 --> Train Metrics: Accuracy: 0.67 -- Loss: 0.78 | Validation Metrics: Accuracy: 0.62 ---- Loss: 0.92\n",
      "Epoch 48 --> Train Metrics: Accuracy: 0.67 -- Loss: 0.77 | Validation Metrics: Accuracy: 0.61 ---- Loss: 0.95\n",
      "Epoch 49 --> Train Metrics: Accuracy: 0.68 -- Loss: 0.77 | Validation Metrics: Accuracy: 0.60 ---- Loss: 0.94\n",
      "Epoch 50 --> Train Metrics: Accuracy: 0.68 -- Loss: 0.77 | Validation Metrics: Accuracy: 0.61 ---- Loss: 0.94\n",
      "Epoch 51 --> Train Metrics: Accuracy: 0.68 -- Loss: 0.77 | Validation Metrics: Accuracy: 0.61 ---- Loss: 0.92\n",
      "Epoch 52 --> Train Metrics: Accuracy: 0.69 -- Loss: 0.75 | Validation Metrics: Accuracy: 0.61 ---- Loss: 0.94\n",
      "Epoch 53 --> Train Metrics: Accuracy: 0.69 -- Loss: 0.76 | Validation Metrics: Accuracy: 0.61 ---- Loss: 0.93\n",
      "Epoch 54 --> Train Metrics: Accuracy: 0.69 -- Loss: 0.75 | Validation Metrics: Accuracy: 0.61 ---- Loss: 0.95\n",
      "Epoch 55 --> Train Metrics: Accuracy: 0.69 -- Loss: 0.74 | Validation Metrics: Accuracy: 0.61 ---- Loss: 0.94\n",
      "Epoch 56 --> Train Metrics: Accuracy: 0.71 -- Loss: 0.72 | Validation Metrics: Accuracy: 0.63 ---- Loss: 0.92\n",
      "Epoch 57 --> Train Metrics: Accuracy: 0.70 -- Loss: 0.73 | Validation Metrics: Accuracy: 0.61 ---- Loss: 0.94\n",
      "Epoch 58 --> Train Metrics: Accuracy: 0.70 -- Loss: 0.73 | Validation Metrics: Accuracy: 0.63 ---- Loss: 0.92\n",
      "Epoch 59 --> Train Metrics: Accuracy: 0.70 -- Loss: 0.72 | Validation Metrics: Accuracy: 0.63 ---- Loss: 0.91\n",
      "Epoch 60 --> Train Metrics: Accuracy: 0.71 -- Loss: 0.72 | Validation Metrics: Accuracy: 0.61 ---- Loss: 0.95\n",
      "Epoch 61 --> Train Metrics: Accuracy: 0.70 -- Loss: 0.72 | Validation Metrics: Accuracy: 0.62 ---- Loss: 0.92\n",
      "Epoch 62 --> Train Metrics: Accuracy: 0.71 -- Loss: 0.71 | Validation Metrics: Accuracy: 0.62 ---- Loss: 0.94\n",
      "Epoch 63 --> Train Metrics: Accuracy: 0.71 -- Loss: 0.70 | Validation Metrics: Accuracy: 0.62 ---- Loss: 0.93\n",
      "Epoch 64 --> Train Metrics: Accuracy: 0.72 -- Loss: 0.69 | Validation Metrics: Accuracy: 0.62 ---- Loss: 0.96\n",
      "Epoch 65 --> Train Metrics: Accuracy: 0.72 -- Loss: 0.69 | Validation Metrics: Accuracy: 0.62 ---- Loss: 0.92\n",
      "Epoch 66 --> Train Metrics: Accuracy: 0.71 -- Loss: 0.70 | Validation Metrics: Accuracy: 0.62 ---- Loss: 0.92\n",
      "Epoch 67 --> Train Metrics: Accuracy: 0.72 -- Loss: 0.68 | Validation Metrics: Accuracy: 0.62 ---- Loss: 0.91\n",
      "Epoch 68 --> Train Metrics: Accuracy: 0.72 -- Loss: 0.68 | Validation Metrics: Accuracy: 0.62 ---- Loss: 0.95\n",
      "Epoch 69 --> Train Metrics: Accuracy: 0.73 -- Loss: 0.67 | Validation Metrics: Accuracy: 0.62 ---- Loss: 0.95\n",
      "Epoch 70 --> Train Metrics: Accuracy: 0.73 -- Loss: 0.68 | Validation Metrics: Accuracy: 0.63 ---- Loss: 0.92\n",
      "Epoch 71 --> Train Metrics: Accuracy: 0.73 -- Loss: 0.66 | Validation Metrics: Accuracy: 0.63 ---- Loss: 0.93\n",
      "Epoch 72 --> Train Metrics: Accuracy: 0.73 -- Loss: 0.66 | Validation Metrics: Accuracy: 0.63 ---- Loss: 0.94\n",
      "Epoch 73 --> Train Metrics: Accuracy: 0.73 -- Loss: 0.65 | Validation Metrics: Accuracy: 0.62 ---- Loss: 0.93\n",
      "Epoch 74 --> Train Metrics: Accuracy: 0.73 -- Loss: 0.65 | Validation Metrics: Accuracy: 0.60 ---- Loss: 0.99\n",
      "Epoch 75 --> Train Metrics: Accuracy: 0.74 -- Loss: 0.65 | Validation Metrics: Accuracy: 0.64 ---- Loss: 0.94\n"
     ]
    },
    {
     "name": "stdout",
     "output_type": "stream",
     "text": [
      "Epoch 76 --> Train Metrics: Accuracy: 0.74 -- Loss: 0.65 | Validation Metrics: Accuracy: 0.61 ---- Loss: 0.95\n",
      "Epoch 77 --> Train Metrics: Accuracy: 0.74 -- Loss: 0.64 | Validation Metrics: Accuracy: 0.63 ---- Loss: 0.95\n",
      "Epoch 78 --> Train Metrics: Accuracy: 0.74 -- Loss: 0.63 | Validation Metrics: Accuracy: 0.64 ---- Loss: 0.90\n",
      "Epoch 79 --> Train Metrics: Accuracy: 0.75 -- Loss: 0.63 | Validation Metrics: Accuracy: 0.62 ---- Loss: 0.95\n",
      "Epoch 80 --> Train Metrics: Accuracy: 0.74 -- Loss: 0.62 | Validation Metrics: Accuracy: 0.63 ---- Loss: 0.94\n",
      "Epoch 81 --> Train Metrics: Accuracy: 0.75 -- Loss: 0.62 | Validation Metrics: Accuracy: 0.63 ---- Loss: 0.94\n",
      "Epoch 82 --> Train Metrics: Accuracy: 0.75 -- Loss: 0.62 | Validation Metrics: Accuracy: 0.63 ---- Loss: 0.95\n",
      "Epoch 83 --> Train Metrics: Accuracy: 0.75 -- Loss: 0.61 | Validation Metrics: Accuracy: 0.64 ---- Loss: 0.93\n",
      "Epoch 84 --> Train Metrics: Accuracy: 0.75 -- Loss: 0.61 | Validation Metrics: Accuracy: 0.64 ---- Loss: 0.92\n",
      "Epoch 85 --> Train Metrics: Accuracy: 0.76 -- Loss: 0.61 | Validation Metrics: Accuracy: 0.65 ---- Loss: 0.91\n",
      "Epoch 86 --> Train Metrics: Accuracy: 0.75 -- Loss: 0.60 | Validation Metrics: Accuracy: 0.64 ---- Loss: 0.91\n",
      "Epoch 87 --> Train Metrics: Accuracy: 0.76 -- Loss: 0.60 | Validation Metrics: Accuracy: 0.64 ---- Loss: 0.94\n",
      "Epoch 88 --> Train Metrics: Accuracy: 0.76 -- Loss: 0.59 | Validation Metrics: Accuracy: 0.64 ---- Loss: 0.95\n",
      "Epoch 89 --> Train Metrics: Accuracy: 0.76 -- Loss: 0.59 | Validation Metrics: Accuracy: 0.63 ---- Loss: 0.98\n",
      "Epoch 90 --> Train Metrics: Accuracy: 0.76 -- Loss: 0.59 | Validation Metrics: Accuracy: 0.64 ---- Loss: 0.97\n",
      "Epoch 91 --> Train Metrics: Accuracy: 0.77 -- Loss: 0.58 | Validation Metrics: Accuracy: 0.64 ---- Loss: 0.97\n",
      "Epoch 92 --> Train Metrics: Accuracy: 0.77 -- Loss: 0.58 | Validation Metrics: Accuracy: 0.61 ---- Loss: 1.02\n",
      "Epoch 93 --> Train Metrics: Accuracy: 0.77 -- Loss: 0.58 | Validation Metrics: Accuracy: 0.65 ---- Loss: 0.95\n",
      "Epoch 94 --> Train Metrics: Accuracy: 0.76 -- Loss: 0.57 | Validation Metrics: Accuracy: 0.65 ---- Loss: 0.94\n",
      "Epoch 95 --> Train Metrics: Accuracy: 0.77 -- Loss: 0.58 | Validation Metrics: Accuracy: 0.65 ---- Loss: 0.92\n",
      "Epoch 96 --> Train Metrics: Accuracy: 0.77 -- Loss: 0.56 | Validation Metrics: Accuracy: 0.65 ---- Loss: 0.94\n",
      "Epoch 97 --> Train Metrics: Accuracy: 0.77 -- Loss: 0.56 | Validation Metrics: Accuracy: 0.65 ---- Loss: 0.92\n",
      "Epoch 98 --> Train Metrics: Accuracy: 0.78 -- Loss: 0.55 | Validation Metrics: Accuracy: 0.64 ---- Loss: 0.97\n",
      "Epoch 99 --> Train Metrics: Accuracy: 0.78 -- Loss: 0.55 | Validation Metrics: Accuracy: 0.62 ---- Loss: 1.01\n",
      "Epoch 100 --> Train Metrics: Accuracy: 0.77 -- Loss: 0.55 | Validation Metrics: Accuracy: 0.64 ---- Loss: 0.99\n",
      "Epoch 101 --> Train Metrics: Accuracy: 0.78 -- Loss: 0.54 | Validation Metrics: Accuracy: 0.65 ---- Loss: 0.95\n",
      "Epoch 102 --> Train Metrics: Accuracy: 0.78 -- Loss: 0.54 | Validation Metrics: Accuracy: 0.65 ---- Loss: 0.95\n",
      "Epoch 103 --> Train Metrics: Accuracy: 0.78 -- Loss: 0.54 | Validation Metrics: Accuracy: 0.63 ---- Loss: 1.00\n",
      "Epoch 104 --> Train Metrics: Accuracy: 0.79 -- Loss: 0.53 | Validation Metrics: Accuracy: 0.65 ---- Loss: 0.96\n",
      "Epoch 105 --> Train Metrics: Accuracy: 0.79 -- Loss: 0.53 | Validation Metrics: Accuracy: 0.66 ---- Loss: 0.96\n",
      "Epoch 106 --> Train Metrics: Accuracy: 0.79 -- Loss: 0.53 | Validation Metrics: Accuracy: 0.66 ---- Loss: 0.95\n",
      "Epoch 107 --> Train Metrics: Accuracy: 0.79 -- Loss: 0.52 | Validation Metrics: Accuracy: 0.66 ---- Loss: 0.92\n",
      "Epoch 108 --> Train Metrics: Accuracy: 0.80 -- Loss: 0.51 | Validation Metrics: Accuracy: 0.64 ---- Loss: 0.99\n",
      "Epoch 109 --> Train Metrics: Accuracy: 0.79 -- Loss: 0.52 | Validation Metrics: Accuracy: 0.66 ---- Loss: 0.95\n",
      "Epoch 110 --> Train Metrics: Accuracy: 0.80 -- Loss: 0.51 | Validation Metrics: Accuracy: 0.66 ---- Loss: 0.96\n",
      "Epoch 111 --> Train Metrics: Accuracy: 0.80 -- Loss: 0.51 | Validation Metrics: Accuracy: 0.65 ---- Loss: 0.95\n",
      "Epoch 112 --> Train Metrics: Accuracy: 0.79 -- Loss: 0.51 | Validation Metrics: Accuracy: 0.65 ---- Loss: 0.98\n",
      "Epoch 113 --> Train Metrics: Accuracy: 0.80 -- Loss: 0.51 | Validation Metrics: Accuracy: 0.66 ---- Loss: 0.95\n",
      "Epoch 114 --> Train Metrics: Accuracy: 0.80 -- Loss: 0.50 | Validation Metrics: Accuracy: 0.65 ---- Loss: 0.96\n",
      "Epoch 115 --> Train Metrics: Accuracy: 0.80 -- Loss: 0.50 | Validation Metrics: Accuracy: 0.65 ---- Loss: 0.99\n",
      "Epoch 116 --> Train Metrics: Accuracy: 0.80 -- Loss: 0.49 | Validation Metrics: Accuracy: 0.64 ---- Loss: 1.00\n",
      "Epoch 117 --> Train Metrics: Accuracy: 0.81 -- Loss: 0.48 | Validation Metrics: Accuracy: 0.65 ---- Loss: 0.99\n",
      "Epoch 118 --> Train Metrics: Accuracy: 0.81 -- Loss: 0.48 | Validation Metrics: Accuracy: 0.66 ---- Loss: 0.97\n",
      "Epoch 119 --> Train Metrics: Accuracy: 0.81 -- Loss: 0.48 | Validation Metrics: Accuracy: 0.66 ---- Loss: 0.97\n",
      "Epoch 120 --> Train Metrics: Accuracy: 0.81 -- Loss: 0.48 | Validation Metrics: Accuracy: 0.66 ---- Loss: 0.97\n",
      "Epoch 121 --> Train Metrics: Accuracy: 0.82 -- Loss: 0.47 | Validation Metrics: Accuracy: 0.64 ---- Loss: 1.05\n",
      "Epoch 122 --> Train Metrics: Accuracy: 0.81 -- Loss: 0.46 | Validation Metrics: Accuracy: 0.63 ---- Loss: 1.05\n",
      "Epoch 123 --> Train Metrics: Accuracy: 0.82 -- Loss: 0.47 | Validation Metrics: Accuracy: 0.66 ---- Loss: 1.00\n",
      "Epoch 124 --> Train Metrics: Accuracy: 0.81 -- Loss: 0.47 | Validation Metrics: Accuracy: 0.65 ---- Loss: 1.00\n",
      "Epoch 125 --> Train Metrics: Accuracy: 0.81 -- Loss: 0.47 | Validation Metrics: Accuracy: 0.65 ---- Loss: 0.99\n",
      "Epoch 126 --> Train Metrics: Accuracy: 0.81 -- Loss: 0.45 | Validation Metrics: Accuracy: 0.66 ---- Loss: 1.01\n",
      "Epoch 127 --> Train Metrics: Accuracy: 0.81 -- Loss: 0.47 | Validation Metrics: Accuracy: 0.64 ---- Loss: 0.99\n",
      "Epoch 128 --> Train Metrics: Accuracy: 0.81 -- Loss: 0.46 | Validation Metrics: Accuracy: 0.66 ---- Loss: 0.95\n",
      "Epoch 129 --> Train Metrics: Accuracy: 0.82 -- Loss: 0.46 | Validation Metrics: Accuracy: 0.65 ---- Loss: 0.96\n",
      "Epoch 130 --> Train Metrics: Accuracy: 0.82 -- Loss: 0.44 | Validation Metrics: Accuracy: 0.66 ---- Loss: 0.96\n",
      "Epoch 131 --> Train Metrics: Accuracy: 0.82 -- Loss: 0.45 | Validation Metrics: Accuracy: 0.65 ---- Loss: 1.02\n",
      "Epoch 132 --> Train Metrics: Accuracy: 0.82 -- Loss: 0.45 | Validation Metrics: Accuracy: 0.67 ---- Loss: 0.97\n",
      "Epoch 133 --> Train Metrics: Accuracy: 0.83 -- Loss: 0.44 | Validation Metrics: Accuracy: 0.67 ---- Loss: 0.96\n",
      "Epoch 134 --> Train Metrics: Accuracy: 0.83 -- Loss: 0.44 | Validation Metrics: Accuracy: 0.67 ---- Loss: 0.96\n",
      "Epoch 135 --> Train Metrics: Accuracy: 0.83 -- Loss: 0.44 | Validation Metrics: Accuracy: 0.66 ---- Loss: 0.97\n",
      "Epoch 136 --> Train Metrics: Accuracy: 0.84 -- Loss: 0.42 | Validation Metrics: Accuracy: 0.65 ---- Loss: 1.02\n",
      "Epoch 137 --> Train Metrics: Accuracy: 0.84 -- Loss: 0.42 | Validation Metrics: Accuracy: 0.66 ---- Loss: 1.01\n",
      "Epoch 138 --> Train Metrics: Accuracy: 0.83 -- Loss: 0.42 | Validation Metrics: Accuracy: 0.66 ---- Loss: 0.99\n",
      "Epoch 139 --> Train Metrics: Accuracy: 0.84 -- Loss: 0.42 | Validation Metrics: Accuracy: 0.65 ---- Loss: 1.03\n",
      "Epoch 140 --> Train Metrics: Accuracy: 0.83 -- Loss: 0.41 | Validation Metrics: Accuracy: 0.66 ---- Loss: 1.03\n",
      "Epoch 141 --> Train Metrics: Accuracy: 0.84 -- Loss: 0.41 | Validation Metrics: Accuracy: 0.64 ---- Loss: 1.07\n",
      "Epoch 142 --> Train Metrics: Accuracy: 0.84 -- Loss: 0.41 | Validation Metrics: Accuracy: 0.65 ---- Loss: 1.02\n",
      "Epoch 143 --> Train Metrics: Accuracy: 0.84 -- Loss: 0.40 | Validation Metrics: Accuracy: 0.67 ---- Loss: 1.00\n",
      "Epoch 144 --> Train Metrics: Accuracy: 0.84 -- Loss: 0.41 | Validation Metrics: Accuracy: 0.65 ---- Loss: 1.04\n",
      "Epoch 145 --> Train Metrics: Accuracy: 0.84 -- Loss: 0.40 | Validation Metrics: Accuracy: 0.66 ---- Loss: 1.01\n",
      "Epoch 146 --> Train Metrics: Accuracy: 0.84 -- Loss: 0.39 | Validation Metrics: Accuracy: 0.67 ---- Loss: 1.01\n",
      "Epoch 147 --> Train Metrics: Accuracy: 0.85 -- Loss: 0.40 | Validation Metrics: Accuracy: 0.68 ---- Loss: 0.99\n",
      "Epoch 148 --> Train Metrics: Accuracy: 0.85 -- Loss: 0.39 | Validation Metrics: Accuracy: 0.66 ---- Loss: 1.05\n",
      "Epoch 149 --> Train Metrics: Accuracy: 0.84 -- Loss: 0.40 | Validation Metrics: Accuracy: 0.66 ---- Loss: 1.07\n",
      "Epoch 150 --> Train Metrics: Accuracy: 0.85 -- Loss: 0.39 | Validation Metrics: Accuracy: 0.67 ---- Loss: 1.00\n"
     ]
    },
    {
     "name": "stdout",
     "output_type": "stream",
     "text": [
      "Epoch 151 --> Train Metrics: Accuracy: 0.85 -- Loss: 0.38 | Validation Metrics: Accuracy: 0.66 ---- Loss: 1.03\n",
      "Epoch 152 --> Train Metrics: Accuracy: 0.85 -- Loss: 0.38 | Validation Metrics: Accuracy: 0.67 ---- Loss: 1.05\n",
      "Epoch 153 --> Train Metrics: Accuracy: 0.85 -- Loss: 0.39 | Validation Metrics: Accuracy: 0.67 ---- Loss: 1.04\n",
      "Epoch 154 --> Train Metrics: Accuracy: 0.85 -- Loss: 0.38 | Validation Metrics: Accuracy: 0.66 ---- Loss: 1.03\n",
      "Epoch 155 --> Train Metrics: Accuracy: 0.86 -- Loss: 0.37 | Validation Metrics: Accuracy: 0.67 ---- Loss: 1.04\n",
      "Epoch 156 --> Train Metrics: Accuracy: 0.85 -- Loss: 0.37 | Validation Metrics: Accuracy: 0.68 ---- Loss: 1.06\n",
      "Epoch 157 --> Train Metrics: Accuracy: 0.85 -- Loss: 0.38 | Validation Metrics: Accuracy: 0.66 ---- Loss: 1.03\n",
      "Epoch 158 --> Train Metrics: Accuracy: 0.85 -- Loss: 0.38 | Validation Metrics: Accuracy: 0.67 ---- Loss: 1.02\n",
      "Epoch 159 --> Train Metrics: Accuracy: 0.85 -- Loss: 0.37 | Validation Metrics: Accuracy: 0.67 ---- Loss: 1.06\n",
      "Epoch 160 --> Train Metrics: Accuracy: 0.86 -- Loss: 0.36 | Validation Metrics: Accuracy: 0.67 ---- Loss: 1.00\n",
      "Epoch 161 --> Train Metrics: Accuracy: 0.86 -- Loss: 0.38 | Validation Metrics: Accuracy: 0.68 ---- Loss: 1.00\n",
      "Epoch 162 --> Train Metrics: Accuracy: 0.86 -- Loss: 0.35 | Validation Metrics: Accuracy: 0.67 ---- Loss: 1.07\n",
      "Epoch 163 --> Train Metrics: Accuracy: 0.86 -- Loss: 0.36 | Validation Metrics: Accuracy: 0.68 ---- Loss: 1.03\n",
      "Epoch 164 --> Train Metrics: Accuracy: 0.86 -- Loss: 0.35 | Validation Metrics: Accuracy: 0.68 ---- Loss: 1.05\n",
      "Epoch 165 --> Train Metrics: Accuracy: 0.86 -- Loss: 0.35 | Validation Metrics: Accuracy: 0.68 ---- Loss: 1.06\n",
      "Epoch 166 --> Train Metrics: Accuracy: 0.86 -- Loss: 0.35 | Validation Metrics: Accuracy: 0.66 ---- Loss: 1.06\n",
      "Epoch 167 --> Train Metrics: Accuracy: 0.86 -- Loss: 0.35 | Validation Metrics: Accuracy: 0.67 ---- Loss: 1.03\n",
      "Epoch 168 --> Train Metrics: Accuracy: 0.87 -- Loss: 0.35 | Validation Metrics: Accuracy: 0.67 ---- Loss: 1.09\n",
      "Epoch 169 --> Train Metrics: Accuracy: 0.87 -- Loss: 0.34 | Validation Metrics: Accuracy: 0.66 ---- Loss: 1.06\n",
      "Epoch 170 --> Train Metrics: Accuracy: 0.87 -- Loss: 0.33 | Validation Metrics: Accuracy: 0.67 ---- Loss: 1.13\n",
      "Epoch 171 --> Train Metrics: Accuracy: 0.87 -- Loss: 0.34 | Validation Metrics: Accuracy: 0.67 ---- Loss: 1.06\n",
      "Epoch 172 --> Train Metrics: Accuracy: 0.87 -- Loss: 0.33 | Validation Metrics: Accuracy: 0.68 ---- Loss: 1.07\n",
      "Epoch 173 --> Train Metrics: Accuracy: 0.87 -- Loss: 0.34 | Validation Metrics: Accuracy: 0.70 ---- Loss: 1.02\n",
      "Epoch 174 --> Train Metrics: Accuracy: 0.87 -- Loss: 0.33 | Validation Metrics: Accuracy: 0.66 ---- Loss: 1.16\n",
      "Epoch 175 --> Train Metrics: Accuracy: 0.86 -- Loss: 0.34 | Validation Metrics: Accuracy: 0.68 ---- Loss: 1.05\n",
      "Epoch 176 --> Train Metrics: Accuracy: 0.87 -- Loss: 0.34 | Validation Metrics: Accuracy: 0.67 ---- Loss: 1.06\n",
      "Epoch 177 --> Train Metrics: Accuracy: 0.87 -- Loss: 0.33 | Validation Metrics: Accuracy: 0.67 ---- Loss: 1.02\n",
      "Epoch 178 --> Train Metrics: Accuracy: 0.87 -- Loss: 0.33 | Validation Metrics: Accuracy: 0.67 ---- Loss: 1.04\n",
      "Epoch 179 --> Train Metrics: Accuracy: 0.87 -- Loss: 0.33 | Validation Metrics: Accuracy: 0.68 ---- Loss: 1.10\n",
      "Epoch 180 --> Train Metrics: Accuracy: 0.88 -- Loss: 0.32 | Validation Metrics: Accuracy: 0.68 ---- Loss: 1.04\n",
      "Epoch 181 --> Train Metrics: Accuracy: 0.88 -- Loss: 0.32 | Validation Metrics: Accuracy: 0.68 ---- Loss: 1.11\n",
      "Epoch 182 --> Train Metrics: Accuracy: 0.88 -- Loss: 0.31 | Validation Metrics: Accuracy: 0.68 ---- Loss: 1.07\n",
      "Epoch 183 --> Train Metrics: Accuracy: 0.88 -- Loss: 0.31 | Validation Metrics: Accuracy: 0.69 ---- Loss: 1.07\n",
      "Epoch 184 --> Train Metrics: Accuracy: 0.88 -- Loss: 0.30 | Validation Metrics: Accuracy: 0.68 ---- Loss: 1.08\n",
      "Epoch 185 --> Train Metrics: Accuracy: 0.89 -- Loss: 0.30 | Validation Metrics: Accuracy: 0.68 ---- Loss: 1.13\n",
      "Epoch 186 --> Train Metrics: Accuracy: 0.88 -- Loss: 0.30 | Validation Metrics: Accuracy: 0.67 ---- Loss: 1.14\n",
      "Epoch 187 --> Train Metrics: Accuracy: 0.88 -- Loss: 0.30 | Validation Metrics: Accuracy: 0.68 ---- Loss: 1.11\n",
      "Epoch 188 --> Train Metrics: Accuracy: 0.88 -- Loss: 0.30 | Validation Metrics: Accuracy: 0.69 ---- Loss: 1.11\n",
      "Epoch 189 --> Train Metrics: Accuracy: 0.88 -- Loss: 0.30 | Validation Metrics: Accuracy: 0.66 ---- Loss: 1.15\n",
      "Epoch 190 --> Train Metrics: Accuracy: 0.88 -- Loss: 0.31 | Validation Metrics: Accuracy: 0.69 ---- Loss: 1.06\n",
      "Epoch 191 --> Train Metrics: Accuracy: 0.88 -- Loss: 0.30 | Validation Metrics: Accuracy: 0.68 ---- Loss: 1.12\n",
      "Epoch 192 --> Train Metrics: Accuracy: 0.89 -- Loss: 0.29 | Validation Metrics: Accuracy: 0.68 ---- Loss: 1.14\n",
      "Epoch 193 --> Train Metrics: Accuracy: 0.88 -- Loss: 0.30 | Validation Metrics: Accuracy: 0.69 ---- Loss: 1.12\n",
      "Epoch 194 --> Train Metrics: Accuracy: 0.88 -- Loss: 0.30 | Validation Metrics: Accuracy: 0.69 ---- Loss: 1.14\n",
      "Epoch 195 --> Train Metrics: Accuracy: 0.88 -- Loss: 0.30 | Validation Metrics: Accuracy: 0.68 ---- Loss: 1.05\n",
      "Epoch 196 --> Train Metrics: Accuracy: 0.89 -- Loss: 0.28 | Validation Metrics: Accuracy: 0.69 ---- Loss: 1.11\n",
      "Epoch 197 --> Train Metrics: Accuracy: 0.89 -- Loss: 0.29 | Validation Metrics: Accuracy: 0.68 ---- Loss: 1.13\n",
      "Epoch 198 --> Train Metrics: Accuracy: 0.89 -- Loss: 0.28 | Validation Metrics: Accuracy: 0.69 ---- Loss: 1.10\n",
      "Epoch 199 --> Train Metrics: Accuracy: 0.89 -- Loss: 0.28 | Validation Metrics: Accuracy: 0.67 ---- Loss: 1.09\n",
      "Epoch 200 --> Train Metrics: Accuracy: 0.89 -- Loss: 0.29 | Validation Metrics: Accuracy: 0.68 ---- Loss: 1.13\n",
      "finish training\n"
     ]
    }
   ],
   "source": [
    "## Dictionary for epoch Statistics\n",
    "epoch_train = {\"acc\": [], \"loss\": []}\n",
    "epoch_val = {\"acc\": [], \"loss\": []}\n",
    "best_val_score = 0\n",
    "\n",
    "# Epoch Loop for Training and Evaluation\n",
    "for epoch in range(1, epochs + 1):\n",
    "    train_loss, train_acc = train(model, device, trainLoader, optimizer, criterion)\n",
    "\n",
    "    metrics = compute_metrics(model, device, valLoader, criterion, classes_names)\n",
    "\n",
    "    # Statistics\n",
    "    train_stats[\"acc\"].append(train_acc)\n",
    "    train_stats[\"loss\"].append(train_loss)\n",
    "\n",
    "    val_stats[\"acc\"].append(metrics[\"Accuracy\"])\n",
    "    val_stats[\"loss\"].append(metrics[\"Loss\"])\n",
    "\n",
    "    # Saving best Model\n",
    "    if metrics[\"Accuracy\"]>best_val_score:\n",
    "        torch.save(model.state_dict(), \"best_att_model.pth\")\n",
    "        best_val_score = metrics['Accuracy']\n",
    "        \n",
    "    \n",
    "    # Print Metris\n",
    "    print(f'Epoch {epoch} --> Train Metrics: Accuracy: {train_acc:.2f} -- Loss: {train_loss:.2f} | Validation Metrics: Accuracy: {metrics[\"Accuracy\"]:.2f} ---- Loss: {metrics[\"Loss\"]:.2f}')\n",
    "\n",
    "print('finish training')"
   ]
  },
  {
   "cell_type": "markdown",
   "metadata": {},
   "source": [
    "# Statistics"
   ]
  },
  {
   "cell_type": "code",
   "execution_count": 21,
   "metadata": {},
   "outputs": [
    {
     "data": {
      "image/png": "[encoded data removed]",
      "text/plain": [
       "<Figure size 576x360 with 1 Axes>"
      ]
     },
     "metadata": {
      "needs_background": "light"
     },
     "output_type": "display_data"
    }
   ],
   "source": [
    "# Loss Figure plotting and saving figure\n",
    "import matplotlib.pyplot as plt\n",
    "plt.figure(figsize=(8,5)) \n",
    "plt.grid() \n",
    "plt.plot(train_stats['loss'])\n",
    "plt.plot(val_stats['loss'])\n",
    "plt.legend(['Training','Validation'])\n",
    "plt.ylabel('Loss'), plt.xlabel('Epochs')\n",
    "plt.savefig('att_loss_curve.pdf', dpi=200), plt.show();"
   ]
  },
  {
   "cell_type": "code",
   "execution_count": 22,
   "metadata": {},
   "outputs": [
    {
     "data": {
      "image/png": "[encoded data removed]",
      "text/plain": [
       "<Figure size 576x360 with 1 Axes>"
      ]
     },
     "metadata": {
      "needs_background": "light"
     },
     "output_type": "display_data"
    }
   ],
   "source": [
    "# Accuracy plotting and saving figure\n",
    "plt.figure(figsize=(8,5)) \n",
    "plt.grid() \n",
    "plt.plot(train_stats['acc'])\n",
    "plt.plot(val_stats['acc'])\n",
    "plt.legend(['Training','Validation'])\n",
    "plt.ylabel('Accuracy'), plt.xlabel('Epochs')\n",
    "plt.savefig('att_acc_curve.pdf',dpi=200), plt.show();"
   ]
  },
  {
   "cell_type": "markdown",
   "metadata": {},
   "source": [
    "## Loading Model"
   ]
  },
  {
   "cell_type": "code",
   "execution_count": 23,
   "metadata": {},
   "outputs": [],
   "source": [
    "#loading \n",
    "model = Cnn_Att(classes_num)\n",
    "model.load_state_dict(torch.load('best_att_model.pth', map_location=device)); \n",
    "model.to(device);"
   ]
  },
  {
   "cell_type": "code",
   "execution_count": 24,
   "metadata": {},
   "outputs": [],
   "source": [
    "test_metrics = compute_metrics(model, device, testLoader, criterion, classes_names)"
   ]
  },
  {
   "cell_type": "code",
   "execution_count": 25,
   "metadata": {},
   "outputs": [
    {
     "name": "stdout",
     "output_type": "stream",
     "text": [
      "Results for Test Set \n",
      "\n",
      "Accuracy: 0.68\n",
      "F1 Score: 0.66\n",
      "Precision: 0.66\n",
      "Recall: 0.67\n",
      "Loss: 1.04\n"
     ]
    }
   ],
   "source": [
    "print('Results for Test Set \\n')\n",
    "print(f\"Accuracy: {test_metrics['Accuracy']:.2f}\")\n",
    "print(f\"F1 Score: {test_metrics['F1-score']:.2f}\")\n",
    "print(f\"Precision: {test_metrics['Precision']:.2f}\")\n",
    "print(f\"Recall: {test_metrics['Recall']:.2f}\")\n",
    "print(f\"Loss: {test_metrics['Loss']:.2f}\")"
   ]
  },
  {
   "cell_type": "code",
   "execution_count": 26,
   "metadata": {},
   "outputs": [
    {
     "data": {
      "image/png": "[encoded data removed]",
      "text/plain": [
       "<Figure size 576x360 with 1 Axes>"
      ]
     },
     "metadata": {
      "needs_background": "light"
     },
     "output_type": "display_data"
    }
   ],
   "source": [
    "import seaborn as sn\n",
    "\n",
    "plt.figure(figsize = (8,5))\n",
    "sn.heatmap(test_metrics['CM'], annot=True, fmt=\".0f\", cmap ='Blues',xticklabels=classes_names, yticklabels=classes_names,\n",
    "           linecolor='k', linewidths=.3, cbar=False)\n",
    "plt.xticks(rotation=30)\n",
    "plt.savefig('confusion_att.pdf', dpi=200), plt.show();"
   ]
  },
  {
   "cell_type": "code",
   "execution_count": 27,
   "metadata": {},
   "outputs": [
    {
     "name": "stdout",
     "output_type": "stream",
     "text": [
      "Roc auc: 0.88\n"
     ]
    }
   ],
   "source": [
    "print(f\"Roc auc: {test_metrics['Roc_AUC']:.2f}\")"
   ]
  }
 ],
 "metadata": {
  "accelerator": "GPU",
  "colab": {
   "collapsed_sections": [],
   "name": "PyTorch MNIST KFold Cross Validation.ipynb",
   "provenance": []
  },
  "kernelspec": {
   "display_name": "Python 3 (ipykernel)",
   "language": "python",
   "name": "python3"
  },
  "language_info": {
   "codemirror_mode": {
    "name": "ipython",
    "version": 3
   },
   "file_extension": ".py",
   "mimetype": "text/x-python",
   "name": "python",
   "nbconvert_exporter": "python",
   "pygments_lexer": "ipython3",
   "version": "3.8.8"
  }
 },
 "nbformat": 4,
 "nbformat_minor": 1
}
